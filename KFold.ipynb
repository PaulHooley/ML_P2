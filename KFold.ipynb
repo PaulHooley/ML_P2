{
 "cells": [
  {
   "cell_type": "code",
   "execution_count": 21,
   "metadata": {},
   "outputs": [],
   "source": [
    "import math\n",
    "import pandas as pd \n",
    "\n",
    "# Returns 2 datasets (train and test)\n",
    "def k_fold_splitter(fold, dataset):\n",
    "    start = math.floor(fold*(len(dataset.index)/5))\n",
    "    end = math.floor((fold+1)*(len(dataset.index)/5))\n",
    "    print(start)\n",
    "    print(end)\n",
    "    train = dataset.copy()\n",
    "    test = dataset.loc[start:end-1]\n",
    "\n",
    "    train.drop(train.index[start:end], inplace=True)\n",
    "\n",
    "    return train, test"
   ]
  },
  {
   "cell_type": "code",
   "execution_count": 27,
   "metadata": {},
   "outputs": [
    {
     "name": "stdout",
     "output_type": "stream",
     "text": [
      "0\n",
      "1\n",
      "1    b\n",
      "2    c\n",
      "3    d\n",
      "4    e\n",
      "dtype: object\n",
      "0    a\n",
      "dtype: object\n"
     ]
    }
   ],
   "source": [
    "dataset = pd.Series(['a', 'b', 'c', 'd', 'e'])\n",
    "train, test = k_fold_splitter(0, dataset)\n",
    "print(train)\n",
    "print(test)"
   ]
  },
  {
   "cell_type": "code",
   "execution_count": null,
   "metadata": {},
   "outputs": [],
   "source": []
  }
 ],
 "metadata": {
  "kernelspec": {
   "display_name": "env",
   "language": "python",
   "name": "env"
  },
  "language_info": {
   "codemirror_mode": {
    "name": "ipython",
    "version": 3
   },
   "file_extension": ".py",
   "mimetype": "text/x-python",
   "name": "python",
   "nbconvert_exporter": "python",
   "pygments_lexer": "ipython3",
   "version": "3.7.5"
  }
 },
 "nbformat": 4,
 "nbformat_minor": 4
}
