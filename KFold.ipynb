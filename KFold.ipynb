{
 "metadata": {
  "language_info": {
   "codemirror_mode": {
    "name": "ipython",
    "version": 3
   },
   "file_extension": ".py",
   "mimetype": "text/x-python",
   "name": "python",
   "nbconvert_exporter": "python",
   "pygments_lexer": "ipython3",
   "version": "3.8.5-final"
  },
  "orig_nbformat": 2,
  "kernelspec": {
   "name": "python38564bitenvvenv476706e916434c2daa61657bc87f7fc3",
   "display_name": "Python 3.8.5 64-bit ('env': venv)"
  }
 },
 "nbformat": 4,
 "nbformat_minor": 2,
 "cells": [
  {
   "cell_type": "code",
   "execution_count": 21,
   "metadata": {},
   "outputs": [],
   "source": [
    "import math\n",
    "import pandas as pd \n",
    "# Returns 2 datasets (train and test)\n",
    "def k_fold_splitter(fold, dataset):\n",
    "    start = math.floor(fold*(len(dataset.index)/5))\n",
    "    end = math.floor((fold+1)*(len(dataset.index)/5))\n",
    "    print(start)\n",
    "    print(end)\n",
    "    train = dataset.copy()\n",
    "    test = dataset.loc[start:end-1]\n",
    "\n",
    "    train.drop(train.index[start:end], inplace=True)\n",
    "\n",
    "    return train, test"
   ]
  },
  {
   "cell_type": "code",
   "execution_count": 27,
   "metadata": {},
   "outputs": [
    {
     "output_type": "stream",
     "name": "stdout",
     "text": [
      "0\n1\n1    b\n2    c\n3    d\n4    e\ndtype: object\n0    a\ndtype: object\n"
     ]
    }
   ],
   "source": [
    "dataset = pd.Series(['a', 'b', 'c', 'd', 'e'])\n",
    "train, test = k_fold_splitter(0, dataset)\n",
    "print(train)\n",
    "print(test)"
   ]
  },
  {
   "cell_type": "code",
   "execution_count": null,
   "metadata": {},
   "outputs": [],
   "source": []
  }
 ]
}