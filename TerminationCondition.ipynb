{
 "cells": [
  {
   "cell_type": "markdown",
   "metadata": {},
   "source": [
    "# Termination Condition Analysis\n",
    "\n",
    "This notebook file contains our code related to the second analysis on an alternate termination condition. We changed the `run` method in the `MomentumGradientDescent` class so that we can do each iteration and validation error calculation outside of the `run` method."
   ]
  },
  {
   "cell_type": "code",
   "execution_count": 1,
   "metadata": {},
   "outputs": [],
   "source": [
    "import numpy as np\n",
    "\n",
    "class MomentumGradientDescent:\n",
    "    def __init__(\n",
    "        self,\n",
    "        learning_rate=0.001,\n",
    "        momentum=0.9,\n",
    "        max_iters=1e4,\n",
    "        epsilon=1e-8,\n",
    "        batch_size=32,\n",
    "    ):\n",
    "        self.learning_rate = learning_rate\n",
    "        self.momentum = momentum\n",
    "        self.max_iters = max_iters\n",
    "        self.epsilon = epsilon\n",
    "        self.batch_size = batch_size\n",
    "        self.prev_delta_w = None\n",
    "\n",
    "    def run(self, gradient_fn, x, y, w):\n",
    "        grad = np.inf\n",
    "        t = 1\n",
    "        term_cond = 0\n",
    "        N, D = x.shape\n",
    "        self.prev_delta_w = np.zeros(w.shape)\n",
    "\n",
    "        for i in range(0, N, self.batch_size):\n",
    "            if x.ndim == 1:\n",
    "                batch_x = x[i:i + self.batch_size]\n",
    "            else:\n",
    "                batch_x = x[i:i + self.batch_size, :]\n",
    "            if y.ndim == 1:\n",
    "                batch_y = y[i:i + self.batch_size]\n",
    "            else:\n",
    "                batch_y = y[i:i + self.batch_size, :]\n",
    "            # compute the gradient with present weight\n",
    "            grad = gradient_fn(batch_x, batch_y, w)\n",
    "            delta_w = self.get_delta_w(grad)\n",
    "            # weight update step\n",
    "            w = w - self.learning_rate * delta_w\n",
    "        return w, grad\n",
    "\n",
    "    def get_delta_w(self, grad):\n",
    "        beta = self.momentum\n",
    "        delta_w = beta * self.prev_delta_w + (1 - beta) * grad\n",
    "        self.prev_delta_w = delta_w\n",
    "\n",
    "        return delta_w"
   ]
  },
  {
   "cell_type": "code",
   "execution_count": 2,
   "metadata": {},
   "outputs": [],
   "source": [
    "import numpy as np\n",
    "\n",
    "# from the given Colab code\n",
    "logistic = lambda z: 1./ (1 + np.exp(-z))  \n",
    "\n",
    "class SoftmaxRegression:\n",
    "\n",
    "    def __init__(self, add_bias=True, regularization_penalty=0.):\n",
    "        self.add_bias = add_bias\n",
    "        self.regularization_penalty = regularization_penalty\n",
    "            \n",
    "    def fit(self, x, y, C, optimizer, w0):\n",
    "        if x.ndim == 1:\n",
    "            x = x[:, None]\n",
    "        if self.add_bias:\n",
    "            N = x.shape[0]\n",
    "            x = np.column_stack([x,np.ones(N)])\n",
    "        N,D = x.shape\n",
    "        \n",
    "        def to_onehot(a):\n",
    "            return np.eye(C)[a]\n",
    "        \n",
    "        def gradient(x, y, w):\n",
    "            N, D = x.shape\n",
    "            # yh: N x C\n",
    "            yh = self.softmax(np.dot(x, w))\n",
    "            # both are N x C\n",
    "            yh = to_onehot(self.to_classlabel(yh))\n",
    "            y = to_onehot(y)\n",
    "            \n",
    "            grad = np.dot(x.T, yh - y) / N\n",
    "            if self.regularization_penalty > 0:\n",
    "                if self.add_bias:\n",
    "                    grad[:-1,:] += self.regularization_penalty * w[:-1,:]    # don't penalize the intercept\n",
    "                else:\n",
    "                    grad += self.regularization_penalty * w\n",
    "            return grad\n",
    "        \n",
    "        # run the optimizer to get the optimal weights\n",
    "        self.w, self.grad = optimizer.run(gradient, x, y, w0) \n",
    "        return self\n",
    "    \n",
    "    def softmax(self, z):\n",
    "        # to prevent overflow/underflow\n",
    "        z = z - np.max(z, axis=-1, keepdims=True)\n",
    "        return (np.exp(z.T) / np.sum(np.exp(z), axis=1)).T\n",
    "\n",
    "    def to_classlabel(self, z):\n",
    "        return z.argmax(axis=1)\n",
    "    \n",
    "    def predict(self, x):\n",
    "        if self.add_bias:\n",
    "            x = np.column_stack([x,np.ones(N)])\n",
    "        # convert from 1D to 2D\n",
    "        x = np.reshape(x, (1, -1))\n",
    "        yh = self.softmax(np.dot(x, self.w))\n",
    "        return self.to_classlabel(yh)[0]\n",
    "        "
   ]
  },
  {
   "cell_type": "markdown",
   "metadata": {},
   "source": [
    "# Validation of Model\n",
    "\n",
    "Here we define the same `k_fold_splitter` method to perform K-fold cross-validation, and we define a new `termination_model_accuracy` method that returns the model with best accuracy once the validation error has not decreased for T consecutive iterations."
   ]
  },
  {
   "cell_type": "code",
   "execution_count": 5,
   "metadata": {},
   "outputs": [],
   "source": [
    "import math\n",
    "\n",
    "def k_fold_splitter(fold, dataset):\n",
    "    \"\"\"\n",
    "    Returns 2 datasets (training and validation)\n",
    "    \"\"\"\n",
    "    start = math.floor(fold*(dataset.shape[0]/5))\n",
    "    end = math.floor((fold+1)*(dataset.shape[0]/5))\n",
    "\n",
    "    training = np.delete(dataset, slice(start, end-1), axis=0)\n",
    "    validation = dataset[start:end-1]\n",
    "\n",
    "    return training, validation\n",
    "\n",
    "def termination_model_accuracy(x, y, C, learning_rate, momentum, batch_size, term_condition, max_iters=1000):\n",
    "    \"\"\"\n",
    "    Calculate max accuracy of each iteration to see if we've reached a termination condition\n",
    "    \"\"\"\n",
    "    j = 0\n",
    "    T = 0\n",
    "    N, D = x.shape\n",
    "    prev_weight = np.random.rand(D,C)\n",
    "    prev_accuracy = 0.00\n",
    "    grad = np.inf\n",
    "    epsilon = 1e-8\n",
    "    \n",
    "    # Ensure that: grad is non-zero, we have not reached max iterations and that our \n",
    "    # termination condition hasn't been reached\n",
    "    while np.linalg.norm(grad) > epsilon and j < max_iters and T < term_condition:\n",
    "        accuracies = []\n",
    "        for fold_num in range(5):\n",
    "            train_data, validation_data = k_fold_splitter(fold_num, x)\n",
    "            train_labels, validation_labels = k_fold_splitter(fold_num, y)\n",
    "            optimizer = MomentumGradientDescent(\n",
    "                learning_rate=learning_rate, \n",
    "                momentum=momentum, \n",
    "                batch_size=batch_size, \n",
    "                max_iters=max_iters,\n",
    "            )\n",
    "            model = SoftmaxRegression(add_bias=False)\n",
    "\n",
    "            model.fit(train_data, train_labels, C, optimizer, prev_weight)\n",
    "            prev_weight = model.w\n",
    "            grad = model.grad\n",
    "\n",
    "            num_misclassified = 0\n",
    "            # calculate the accuracy\n",
    "            for i in range(len(validation_data)):\n",
    "                prediction = model.predict(validation_data[i, :])\n",
    "                if prediction != validation_labels[i]:\n",
    "                    num_misclassified += 1\n",
    "            misclassification_rate = num_misclassified / len(validation_labels)\n",
    "            accuracies.append(1 - misclassification_rate)\n",
    "\n",
    "        cur_accuracy = np.average(accuracies)\n",
    "        \n",
    "        if cur_accuracy > prev_accuracy:\n",
    "            prev_accuracy = cur_accuracy\n",
    "            T = 0\n",
    "        else:\n",
    "            T += 1\n",
    "        j += 1\n",
    "\n",
    "    return prev_accuracy\n"
   ]
  },
  {
   "cell_type": "markdown",
   "metadata": {},
   "source": [
    "# Analysis\n",
    "\n",
    "Below we analyze how different values of T for the termination condition affect the accuracy of our model. We do this for both datasets."
   ]
  },
  {
   "cell_type": "code",
   "execution_count": 4,
   "metadata": {},
   "outputs": [],
   "source": [
    "# store hyper-parameter values here for use below\n",
    "digits_learning_rate = 0.14003\n",
    "digits_momentum = 0.99\n",
    "digits_batch_size = 897\n",
    "\n",
    "wine_learning_rate = 0.14003\n",
    "wine_momentum = 0.696\n",
    "wine_batch_size = 178"
   ]
  },
  {
   "cell_type": "code",
   "execution_count": 6,
   "metadata": {
    "tags": []
   },
   "outputs": [
    {
     "data": {
      "image/png": "[encoded data removed]",
      "text/plain": [
       "<Figure size 432x288 with 1 Axes>"
      ]
     },
     "metadata": {
      "needs_background": "light"
     },
     "output_type": "display_data"
    }
   ],
   "source": [
    "from sklearn.datasets import load_digits\n",
    "from sklearn.datasets import load_wine\n",
    "%matplotlib inline\n",
    "import matplotlib.pyplot as plt\n",
    "\n",
    "digits = load_digits()\n",
    "x, y = digits.data, digits.target\n",
    "\n",
    "C = 10\n",
    "digits_accuracies = []\n",
    "term_conditions = np.linspace(1, 100, 10)\n",
    "\n",
    "for term_condition in term_conditions:\n",
    "    # using the hyper-parameter values obtained from grid search\n",
    "    accuracy = termination_model_accuracy(x, y, C, digits_learning_rate, digits_momentum, digits_batch_size, term_condition)\n",
    "    digits_accuracies.append(accuracy)\n",
    "\n",
    "# plot for accuracy vs. termination condition on digits dataset\n",
    "plt.plot(term_condtions, digits_accuracies, '.')\n",
    "plt.title('Accuracy vs. Termination Condition (Digits Dataset)')\n",
    "plt.xlabel('termination condition')\n",
    "plt.ylabel('accuracy')\n",
    "plt.show()"
   ]
  },
  {
   "cell_type": "code",
   "execution_count": 9,
   "metadata": {
    "tags": [
     "outputPrepend"
    ]
   },
   "outputs": [
    {
     "data": {
      "image/png": "[encoded data removed]",
      "text/plain": [
       "<Figure size 432x288 with 1 Axes>"
      ]
     },
     "metadata": {
      "needs_background": "light"
     },
     "output_type": "display_data"
    }
   ],
   "source": [
    "wine = load_wine()\n",
    "x, y = wine.data, wine.target\n",
    "\n",
    "C = 3\n",
    "wine_accuracies = []\n",
    "term_conditions = np.linspace(1, 100, 20)\n",
    "\n",
    "for term_condition in term_conditions:\n",
    "    # using the hyper-parameter values obtained from grid search\n",
    "    accuracy = termination_model_accuracy(x, y, C, wine_learning_rate, wine_momentum, wine_batch_size, term_condition)\n",
    "    wine_accuracies.append(accuracy)\n",
    "\n",
    "# plot for accuracy vs. termination condition on wine dataset\n",
    "plt.plot(term_condtions, wine_accuracies, '.')\n",
    "plt.title('Accuracy vs. Termination Condition (Wine Dataset)')\n",
    "plt.xlabel('termination condition')\n",
    "plt.ylabel('accuracy')\n",
    "plt.show()"
   ]
  },
  {
   "cell_type": "code",
   "execution_count": null,
   "metadata": {},
   "outputs": [],
   "source": []
  }
 ],
 "metadata": {
  "kernelspec": {
   "display_name": "env",
   "language": "python",
   "name": "env"
  },
  "language_info": {
   "codemirror_mode": {
    "name": "ipython",
    "version": 3
   },
   "file_extension": ".py",
   "mimetype": "text/x-python",
   "name": "python",
   "nbconvert_exporter": "python",
   "pygments_lexer": "ipython3",
   "version": "3.7.5"
  }
 },
 "nbformat": 4,
 "nbformat_minor": 4
}
