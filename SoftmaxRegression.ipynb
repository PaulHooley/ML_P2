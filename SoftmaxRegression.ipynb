{
 "cells": [
  {
   "cell_type": "markdown",
   "metadata": {},
   "source": [
    "# Gradient Descent with Minibatch and Momentum"
   ]
  },
  {
   "cell_type": "code",
   "execution_count": 166,
   "metadata": {},
   "outputs": [],
   "source": [
    "import numpy as np\n",
    "\n",
    "class MomentumGradientDescent:\n",
    "    def __init__(\n",
    "        self,\n",
    "        learning_rate=0.001,\n",
    "        momentum=0.9,\n",
    "        max_iters=1e4,\n",
    "        epsilon=1e-8,\n",
    "        batch_size=32,\n",
    "        record_history=False,\n",
    "    ):\n",
    "        self.learning_rate = learning_rate\n",
    "        self.momentum = momentum\n",
    "        self.max_iters = max_iters\n",
    "        self.record_history = record_history\n",
    "        self.epsilon = epsilon\n",
    "        self.batch_size = batch_size\n",
    "        self.prev_delta_w = None\n",
    "        if record_history:\n",
    "            # to store the weight history for visualization\n",
    "            self.w_history = []\n",
    "\n",
    "    def run(self, gradient_fn, x, y, w):\n",
    "        grad = np.inf\n",
    "        t = 1\n",
    "        N, D = x.shape\n",
    "        self.prev_delta_w = np.zeros(w.shape)\n",
    "        while np.linalg.norm(grad) > self.epsilon and t < self.max_iters:\n",
    "            for i in range(0, N, self.batch_size):\n",
    "                if x.ndim == 1:\n",
    "                    batch_x = x[i:i + self.batch_size]\n",
    "                else:\n",
    "                    batch_x = x[i:i + self.batch_size, :]\n",
    "\n",
    "                if y.ndim == 1:\n",
    "                    batch_y = y[i:i + self.batch_size]\n",
    "                else:\n",
    "                    batch_y = y[i:i + self.batch_size, :]\n",
    "\n",
    "                # compute the gradient with present weight\n",
    "                grad = gradient_fn(batch_x, batch_y, w)\n",
    "                delta_w = self.get_delta_w(grad)\n",
    "\n",
    "                # weight update step\n",
    "                w = w - self.learning_rate * delta_w\n",
    "                if self.record_history:\n",
    "                    self.w_history.append(w)\n",
    "            t += 1\n",
    "        return w\n",
    "\n",
    "    def get_delta_w(self, grad):\n",
    "        beta = self.momentum\n",
    "        delta_w = beta * self.prev_delta_w + (1 - beta) * grad\n",
    "        self.prev_delta_w = delta_w\n",
    "\n",
    "        return delta_w"
   ]
  },
  {
   "cell_type": "markdown",
   "metadata": {},
   "source": [
    "# Softmax Regression\n",
    "\n",
    "Below is our implementation of the Softmax Regression model. Class labels and predictions are one-hot encoded."
   ]
  },
  {
   "cell_type": "code",
   "execution_count": 167,
   "metadata": {},
   "outputs": [],
   "source": [
    "import numpy as np\n",
    "\n",
    "# from the given Colab code\n",
    "logistic = lambda z: 1./ (1 + np.exp(-z))  \n",
    "\n",
    "class SoftmaxRegression:\n",
    "\n",
    "    def __init__(self, add_bias=True):\n",
    "        self.add_bias = add_bias\n",
    "        pass\n",
    "            \n",
    "    def fit(self, x, y, C, optimizer):\n",
    "        if x.ndim == 1:\n",
    "            x = x[:, None]\n",
    "        if self.add_bias:\n",
    "            N = x.shape[0]\n",
    "            x = np.column_stack([x,np.ones(N)])\n",
    "        N,D = x.shape\n",
    "        \n",
    "        def to_onehot(a):\n",
    "            return np.eye(C)[a]\n",
    "        \n",
    "        def gradient(x, y, w):\n",
    "            N, D = x.shape\n",
    "            # yh: N x C\n",
    "            yh = self.softmax(np.dot(x, w))\n",
    "            # both are N x C\n",
    "            yh = to_onehot(self.to_classlabel(yh))\n",
    "            y = to_onehot(y)\n",
    "            \n",
    "            grad = np.dot(x.T, yh - y) / N\n",
    "            return grad\n",
    "        \n",
    "        # initialize all weights to 0\n",
    "        w0 = np.zeros((D,C)) \n",
    "        # run the optimizer to get the optimal weights\n",
    "        self.w = optimizer.run(gradient, x, y, w0)\n",
    "        return self\n",
    "    \n",
    "    def softmax(self, z):\n",
    "        # to prevent overflow/underflow\n",
    "        z = z - np.max(z, axis=-1, keepdims=True)\n",
    "        return (np.exp(z.T) / np.sum(np.exp(z), axis=1)).T\n",
    "\n",
    "    def to_classlabel(self, z):\n",
    "        return z.argmax(axis=1)\n",
    "    \n",
    "    def predict(self, x):\n",
    "        if self.add_bias:\n",
    "            x = np.column_stack([x,np.ones(N)])\n",
    "        # convert from 1D to 2D\n",
    "        x = np.reshape(x, (1, -1))\n",
    "        yh = self.softmax(np.dot(x, self.w))\n",
    "        return self.to_classlabel(yh)[0]\n",
    "        "
   ]
  },
  {
   "cell_type": "markdown",
   "metadata": {},
   "source": [
    "# Validation of Model\n",
    "\n",
    "Throughout the code below, validation is performed using 5-fold cross-validation. Here we define some helper methods which are used in the following sections below."
   ]
  },
  {
   "cell_type": "code",
   "execution_count": 143,
   "metadata": {},
   "outputs": [],
   "source": [
    "import math\n",
    "\n",
    "def k_fold_splitter(fold, dataset):\n",
    "    \"\"\"\n",
    "    Returns 2 datasets (training and validation)\n",
    "    \"\"\"\n",
    "    start = math.floor(fold*(dataset.shape[0]/5))\n",
    "    end = math.floor((fold+1)*(dataset.shape[0]/5))\n",
    "\n",
    "    training = np.delete(dataset, slice(start, end-1), axis=0)\n",
    "    validation = dataset[start:end-1]\n",
    "\n",
    "    return training, validation\n",
    "\n",
    "def calculate_model_accuracy(x, y, C, learning_rate, momentum, batch_size, max_iters=10000):\n",
    "    \"\"\"\n",
    "    Helper method to calculate the accuracy of our implemented Softmax\n",
    "    Regression model for a given set of inputs, labels, and hyper-parameters\n",
    "    \"\"\"\n",
    "    accuracies = []\n",
    "    # do 5-fold cross-validation\n",
    "    for fold_num in range(5):\n",
    "        train_data, validation_data = k_fold_splitter(fold_num, x)\n",
    "        train_labels, validation_labels = k_fold_splitter(fold_num, y)\n",
    "\n",
    "        optimizer = MomentumGradientDescent(\n",
    "            learning_rate=learning_rate, \n",
    "            momentum=momentum, \n",
    "            batch_size=batch_size, \n",
    "            max_iters=max_iters,\n",
    "        )\n",
    "        model = SoftmaxRegression(add_bias=False)\n",
    "        model.fit(train_data, train_labels, C, optimizer)\n",
    "\n",
    "        num_misclassified = 0\n",
    "        # calculate the accuracy\n",
    "        for i in range(len(validation_data)):\n",
    "            prediction = model.predict(validation_data[i, :])\n",
    "            if prediction != validation_labels[i]:\n",
    "                num_misclassified += 1\n",
    "\n",
    "        misclassification_rate = num_misclassified / len(validation_labels)\n",
    "        accuracies.append(1 - misclassification_rate)\n",
    "        \n",
    "    return np.average(accuracies)\n",
    "    "
   ]
  },
  {
   "cell_type": "markdown",
   "metadata": {},
   "source": [
    "# Grid Search to Find Good Hyper-Parameters\n",
    "\n",
    "### Digits Dataset\n",
    "\n",
    "First we do a grid search to find a good set of hyper-parameters (learning rate, momentum, batch size). This will give us a reference point for the model's performance which we can compare to as we change individual hyper-parameters. These parameters are not optimal since our grid search does not try an extensive set of combinations, but they are at least a good starting point. We kept the number of combinations on the smaller side since each loop iteration is fairly expensive in terms of computation time."
   ]
  },
  {
   "cell_type": "code",
   "execution_count": 108,
   "metadata": {},
   "outputs": [
    {
     "name": "stdout",
     "output_type": "stream",
     "text": [
      "0.9179642395854406, 0.9213224195079441, 0.9218873033410622 [BATCH], 0.9224490748665598 [BATCH], \n",
      "\n",
      "Best Accuracy: 0.9224490748665598\n",
      "Best Learning Rate: 0.0001\n",
      "Best Momentum: 0.549\n",
      "Best Batch Size: 321\n"
     ]
    }
   ],
   "source": [
    "from sklearn.datasets import load_digits\n",
    "\n",
    "digits = load_digits()\n",
    "x, y = digits.data, digits.target\n",
    "\n",
    "C = 10\n",
    "max_accuracy = 0\n",
    "best_learning_rate = 0\n",
    "best_momentum = 0\n",
    "best_batch_size = x.shape[0]\n",
    "\n",
    "# grid search to find good hyper-parameters\n",
    "for learning_rate in np.linspace(0.0001, 0.2, 21):\n",
    "    for momentum in np.linspace(0.5, 0.99, 11):\n",
    "        accuracy = calculate_model_accuracy(x, y, C, learning_rate, momentum, x.shape[0])\n",
    "        if accuracy > max_accuracy:\n",
    "            print(accuracy, end = ', ')\n",
    "            max_accuracy = accuracy\n",
    "            best_learning_rate = learning_rate\n",
    "            best_momentum = momentum\n",
    "            \n",
    "for batch_size in range(1, x.shape[0], 64):\n",
    "    accuracy = calculate_model_accuracy(x, y, C, best_learning_rate, best_momentum, batch_size)\n",
    "    if accuracy > max_accuracy:\n",
    "        print(accuracy, end = ' [BATCH], ')\n",
    "        max_accuracy = accuracy\n",
    "        best_batch_size = batch_size\n",
    "            \n",
    "print(\"\\n\\nBest Accuracy: {}\".format(max_accuracy))  \n",
    "print(\"Best Learning Rate: {}\".format(best_learning_rate))  \n",
    "print(\"Best Momentum: {}\".format(best_momentum))  \n",
    "print(\"Best Batch Size: {}\".format(best_batch_size))  "
   ]
  },
  {
   "cell_type": "markdown",
   "metadata": {},
   "source": [
    "### Wine Dataset\n",
    "\n",
    "Similar to above, we first do a grid search to find a good set of hyper-parameters as a reference point for the model's performance."
   ]
  },
  {
   "cell_type": "code",
   "execution_count": 109,
   "metadata": {},
   "outputs": [
    {
     "name": "stdout",
     "output_type": "stream",
     "text": [
      "0.6726050420168067, 0.712436974789916, 0.9124369747899159, 0.9188235294117648, \n",
      "\n",
      "Best Accuracy: 0.9188235294117648\n",
      "Best Learning Rate: 0.0001\n",
      "Best Momentum: 0.892\n",
      "Best Batch Size: 178\n"
     ]
    }
   ],
   "source": [
    "from sklearn.datasets import load_wine\n",
    "\n",
    "wine = load_wine()\n",
    "x, y = wine.data, wine.target\n",
    "\n",
    "C = 3\n",
    "max_accuracy = 0\n",
    "best_learning_rate = 0\n",
    "best_momentum = 0\n",
    "best_batch_size = x.shape[0]\n",
    "\n",
    "# grid search to find good hyper-parameters\n",
    "for learning_rate in np.linspace(0.0001, 0.2, 21):\n",
    "    for momentum in np.linspace(0.5, 0.99, 11):\n",
    "        accuracy = calculate_model_accuracy(x, y, C, learning_rate, momentum, x.shape[0])\n",
    "        if accuracy > max_accuracy:\n",
    "            print(accuracy, end=', ')\n",
    "            max_accuracy = accuracy\n",
    "            best_learning_rate = learning_rate\n",
    "            best_momentum = momentum\n",
    "            \n",
    "# use an increment of 16 instead of 64 since this dataset is much smaller\n",
    "for batch_size in range(1, x.shape[0], 16):\n",
    "    accuracy = calculate_model_accuracy(x, y, C, best_learning_rate, best_momentum, batch_size)\n",
    "    if accuracy > max_accuracy:\n",
    "        print(accuracy, end=' [BATCH], ')\n",
    "        max_accuracy = accuracy\n",
    "        best_batch_size = batch_size\n",
    "            \n",
    "print(\"\\n\\nBest Accuracy: {}\".format(max_accuracy))\n",
    "print(\"Best Learning Rate: {}\".format(best_learning_rate))\n",
    "print(\"Best Momentum: {}\".format(best_momentum))\n",
    "print(\"Best Batch Size: {}\".format(best_batch_size))"
   ]
  },
  {
   "cell_type": "markdown",
   "metadata": {},
   "source": [
    "# Analysis: Varying Individual Hyper-Parameters\n",
    "\n",
    "Now that we have a good set of hyper-parameters, we can observe how the accuracy of the Softmax Regression model changes as the value of one hyper-parameter is varied.\n",
    "\n",
    "### Learning Rate\n",
    "\n",
    "The results here are a bit strange since the accuracy does not change at all as the learning rate is varied. Even when the maximum number of iterations is set to something very small (<5), the same straight-line graph was produced. This may be due to a problem with our implementation; however, we did observe (via print statements) that the resulting weight vectors did change. It seems though that despite this, the model's accuracy remained the same."
   ]
  },
  {
   "cell_type": "code",
   "execution_count": 168,
   "metadata": {},
   "outputs": [
    {
     "data": {
      "image/png": "[encoded data removed]",
      "text/plain": [
       "<Figure size 432x288 with 1 Axes>"
      ]
     },
     "metadata": {
      "needs_background": "light"
     },
     "output_type": "display_data"
    }
   ],
   "source": [
    "from sklearn.datasets import load_digits\n",
    "from sklearn.datasets import load_wine\n",
    "#%matplotlib notebook\n",
    "%matplotlib inline\n",
    "import matplotlib.pyplot as plt\n",
    "\n",
    "digits = load_digits()\n",
    "x, y = digits.data, digits.target\n",
    "\n",
    "C = 10\n",
    "digits_accuracies = []\n",
    "learning_rates = np.linspace(0.0001, 0.99, 50)\n",
    "\n",
    "for learning_rate in learning_rates:\n",
    "    # using the hyper-parameter values obtained from grid search\n",
    "    accuracy = calculate_model_accuracy(x, y, C, learning_rate, 0.549, 321, max_iters=100)\n",
    "    digits_accuracies.append(accuracy)\n",
    "\n",
    "# plot for accuracy vs. learning rate on digits dataset\n",
    "plt.plot(learning_rates, digits_accuracies, '.')\n",
    "plt.title('Accuracy vs. Learning Rate (Digits Dataset)')\n",
    "plt.xlabel('learning rate')\n",
    "plt.ylabel('accuracy')\n",
    "plt.show()"
   ]
  },
  {
   "cell_type": "code",
   "execution_count": 153,
   "metadata": {},
   "outputs": [
    {
     "data": {
      "image/png": "[encoded data removed]",
      "text/plain": [
       "<Figure size 432x288 with 1 Axes>"
      ]
     },
     "metadata": {
      "needs_background": "light"
     },
     "output_type": "display_data"
    }
   ],
   "source": [
    "wine = load_wine()\n",
    "x, y = wine.data, wine.target\n",
    "\n",
    "C = 3\n",
    "wine_accuracies = []\n",
    "learning_rates = np.linspace(0.0001, 0.99, 50)\n",
    "\n",
    "for learning_rate in learning_rates:\n",
    "    # using the hyper-parameter values obtained from grid search\n",
    "    accuracy = calculate_model_accuracy(x, y, C, learning_rate, 0.892, x.shape[0], max_iters=100)\n",
    "    wine_accuracies.append(accuracy)\n",
    "\n",
    "# plot for accuracy vs. learning rate on wine dataset\n",
    "plt.plot(learning_rates, wine_accuracies, '.')\n",
    "plt.title('Accuracy vs. Learning Rate (Wine Dataset)')\n",
    "plt.xlabel('learning rate')\n",
    "plt.ylabel('accuracy')\n",
    "plt.show()"
   ]
  },
  {
   "cell_type": "markdown",
   "metadata": {},
   "source": [
    "### Momentum"
   ]
  },
  {
   "cell_type": "code",
   "execution_count": 123,
   "metadata": {},
   "outputs": [
    {
     "data": {
      "image/png": "[encoded data removed]",
      "text/plain": [
       "<Figure size 432x288 with 1 Axes>"
      ]
     },
     "metadata": {
      "needs_background": "light"
     },
     "output_type": "display_data"
    }
   ],
   "source": [
    "from sklearn.datasets import load_digits\n",
    "from sklearn.datasets import load_wine\n",
    "#%matplotlib notebook\n",
    "%matplotlib inline\n",
    "import matplotlib.pyplot as plt\n",
    "\n",
    "digits = load_digits()\n",
    "x, y = digits.data, digits.target\n",
    "\n",
    "C = 10\n",
    "digits_accuracies = []\n",
    "momentums = np.linspace(0, 0.99, 50)\n",
    "\n",
    "for momentum in momentums:\n",
    "    # using the hyper-parameter values obtained from grid search\n",
    "    accuracy = calculate_model_accuracy(x, y, C, 0.0001, momentum, 321)\n",
    "    digits_accuracies.append(accuracy)\n",
    "\n",
    "# plot for accuracy vs. momentum on digits dataset\n",
    "plt.plot(momentums, digits_accuracies, '.')\n",
    "plt.title('Accuracy vs. Momentum (Digits Dataset)')\n",
    "plt.xlabel('momentum')\n",
    "plt.ylabel('accuracy')\n",
    "plt.show()"
   ]
  },
  {
   "cell_type": "code",
   "execution_count": 122,
   "metadata": {},
   "outputs": [
    {
     "data": {
      "image/png": "[encoded data removed]",
      "text/plain": [
       "<Figure size 432x288 with 1 Axes>"
      ]
     },
     "metadata": {
      "needs_background": "light"
     },
     "output_type": "display_data"
    }
   ],
   "source": [
    "wine = load_wine()\n",
    "x, y = wine.data, wine.target\n",
    "\n",
    "C = 3\n",
    "wine_accuracies = []\n",
    "momentums = np.linspace(0, 0.99, 50)\n",
    "\n",
    "for momentum in momentums:\n",
    "    # using the hyper-parameter values obtained from grid search\n",
    "    accuracy = calculate_model_accuracy(x, y, C, 0.0001, momentum, x.shape[0])\n",
    "    wine_accuracies.append(accuracy)\n",
    "\n",
    "# plot for accuracy vs. momentum on wine dataset\n",
    "plt.plot(momentums, wine_accuracies, '.')\n",
    "plt.title('Accuracy vs. Momentum (Wine Dataset)')\n",
    "plt.xlabel('momentum')\n",
    "plt.ylabel('accuracy')\n",
    "plt.show()"
   ]
  },
  {
   "cell_type": "markdown",
   "metadata": {},
   "source": [
    "### Batch Size"
   ]
  },
  {
   "cell_type": "code",
   "execution_count": 154,
   "metadata": {},
   "outputs": [
    {
     "data": {
      "image/png": "[encoded data removed]",
      "text/plain": [
       "<Figure size 432x288 with 1 Axes>"
      ]
     },
     "metadata": {
      "needs_background": "light"
     },
     "output_type": "display_data"
    }
   ],
   "source": [
    "from sklearn.datasets import load_digits\n",
    "from sklearn.datasets import load_wine\n",
    "#%matplotlib notebook\n",
    "%matplotlib inline\n",
    "import matplotlib.pyplot as plt\n",
    "\n",
    "digits = load_digits()\n",
    "x, y = digits.data, digits.target\n",
    "\n",
    "C = 10\n",
    "digits_accuracies = []\n",
    "batch_sizes = range(1, x.shape[0], 16)\n",
    "\n",
    "for batch_size in batch_sizes:\n",
    "    # using the hyper-parameter values obtained from grid search\n",
    "    accuracy = calculate_model_accuracy(x, y, C, 0.0001, 0.549, batch_size)\n",
    "    digits_accuracies.append(accuracy)\n",
    "\n",
    "# plot for accuracy vs. batch size on digits dataset\n",
    "plt.plot(batch_sizes, digits_accuracies, '.')\n",
    "plt.title('Accuracy vs. Batch Size (Digits Dataset)')\n",
    "plt.xlabel('batch size')\n",
    "plt.ylabel('accuracy')\n",
    "plt.show()"
   ]
  },
  {
   "cell_type": "code",
   "execution_count": 169,
   "metadata": {},
   "outputs": [
    {
     "data": {
      "image/png": "[encoded data removed]",
      "text/plain": [
       "<Figure size 432x288 with 1 Axes>"
      ]
     },
     "metadata": {
      "needs_background": "light"
     },
     "output_type": "display_data"
    }
   ],
   "source": [
    "wine = load_wine()\n",
    "x, y = wine.data, wine.target\n",
    "\n",
    "C = 3\n",
    "wine_accuracies = []\n",
    "batch_sizes = range(1, x.shape[0], 4)\n",
    "\n",
    "for batch_size in batch_sizes:\n",
    "    # using the hyper-parameter values obtained from grid search\n",
    "    accuracy = calculate_model_accuracy(x, y, C, 0.0001, 0.892, batch_size)\n",
    "    wine_accuracies.append(accuracy)\n",
    "\n",
    "# plot for accuracy vs. batch size on wine dataset\n",
    "plt.plot(batch_sizes, wine_accuracies, '.')\n",
    "plt.title('Accuracy vs. Batch Size (Wine Dataset)')\n",
    "plt.xlabel('batch size')\n",
    "plt.ylabel('accuracy')\n",
    "plt.show()"
   ]
  },
  {
   "cell_type": "markdown",
   "metadata": {},
   "source": [
    "### Maximum Iterations"
   ]
  },
  {
   "cell_type": "code",
   "execution_count": 175,
   "metadata": {},
   "outputs": [
    {
     "data": {
      "image/png": "[encoded data removed]",
      "text/plain": [
       "<Figure size 432x288 with 1 Axes>"
      ]
     },
     "metadata": {
      "needs_background": "light"
     },
     "output_type": "display_data"
    }
   ],
   "source": [
    "from sklearn.datasets import load_digits\n",
    "from sklearn.datasets import load_wine\n",
    "#%matplotlib notebook\n",
    "%matplotlib inline\n",
    "import matplotlib.pyplot as plt\n",
    "\n",
    "digits = load_digits()\n",
    "x, y = digits.data, digits.target\n",
    "\n",
    "C = 10\n",
    "digits_accuracies = []\n",
    "max_iterations = range(1, 2500, 10)\n",
    "\n",
    "for max_iters in max_iterations:\n",
    "    # using the hyper-parameter values obtained from grid search\n",
    "    accuracy = calculate_model_accuracy(x, y, C, 0.0001, 0.549, 321, max_iters=max_iters)\n",
    "    digits_accuracies.append(accuracy)\n",
    "\n",
    "# plot for accuracy vs. max iters on digits dataset\n",
    "plt.plot(max_iterations, digits_accuracies, '.')\n",
    "plt.title('Accuracy vs. Maximum Iterations (Digits Dataset)')\n",
    "plt.xlabel('maximum iterations')\n",
    "plt.ylabel('accuracy')\n",
    "plt.show()"
   ]
  },
  {
   "cell_type": "code",
   "execution_count": 177,
   "metadata": {},
   "outputs": [
    {
     "data": {
      "image/png": "[encoded data removed]",
      "text/plain": [
       "<Figure size 432x288 with 1 Axes>"
      ]
     },
     "metadata": {
      "needs_background": "light"
     },
     "output_type": "display_data"
    }
   ],
   "source": [
    "wine = load_wine()\n",
    "x, y = wine.data, wine.target\n",
    "\n",
    "C = 3\n",
    "wine_accuracies = []\n",
    "max_iterations = range(1, 2500, 10)\n",
    "\n",
    "for max_iters in max_iterations:\n",
    "    # using the hyper-parameter values obtained from grid search\n",
    "    accuracy = calculate_model_accuracy(x, y, C, 0.0001, 0.892, x.shape[0], max_iters=max_iters)\n",
    "    wine_accuracies.append(accuracy)\n",
    "\n",
    "# plot for accuracy vs. maximum iterations on wine dataset\n",
    "plt.plot(max_iterations, wine_accuracies, '.')\n",
    "plt.title('Accuracy vs. Maximum Iterations (Wine Dataset)')\n",
    "plt.xlabel('maximum iterations')\n",
    "plt.ylabel('accuracy')\n",
    "plt.show()"
   ]
  },
  {
   "cell_type": "markdown",
   "metadata": {},
   "source": [
    "# Comparison Against Other Classifiers\n",
    "\n",
    "Now we can compare our model to an off-the-shelf classifier to see how the performance compares on the digits dataset. We will be comparing against the Ridge Regression and Logistic Regression models from SciKit Learn.\n",
    "\n",
    "### Digits Dataset Comparison"
   ]
  },
  {
   "cell_type": "code",
   "execution_count": 92,
   "metadata": {},
   "outputs": [
    {
     "name": "stdout",
     "output_type": "stream",
     "text": [
      "Softmax Regression Accuracy: 0.9224490748665598\n",
      "Ridge Regression (SKLearn) Accuracy: 0.8900795194597034\n",
      "Logistic Regression (SKLearn) Accuracy: 0.9179657957392509\n"
     ]
    }
   ],
   "source": [
    "from sklearn.datasets import load_digits\n",
    "from sklearn.linear_model import RidgeClassifier\n",
    "from sklearn.linear_model import LogisticRegression\n",
    "\n",
    "digits = load_digits()\n",
    "x, y = digits.data, digits.target\n",
    "\n",
    "C = 10\n",
    "# using the hyper-parameters obtained from grid search\n",
    "softmax_accuracy = calculate_model_accuracy(x, y, C, 0.0001, 0.549, 321)\n",
    "\n",
    "# Ridge Regression\n",
    "ridge_model_accuracies = []\n",
    "for fold_num in range(5):\n",
    "    train_data, validation_data = k_fold_splitter(fold_num, x)\n",
    "    train_labels, validation_labels = k_fold_splitter(fold_num, y)\n",
    "\n",
    "    ridge_model = RidgeClassifier(max_iter=10000)\n",
    "    ridge_model.fit(train_data, train_labels)\n",
    "\n",
    "    ridge_model_accuracies.append(ridge_model.score(validation_data, validation_labels))\n",
    "    \n",
    "# Logistic Regression\n",
    "logistic_model_accuracies = []\n",
    "for fold_num in range(5):\n",
    "    train_data, validation_data = k_fold_splitter(fold_num, x)\n",
    "    train_labels, validation_labels = k_fold_splitter(fold_num, y)\n",
    "\n",
    "    logistic_model = LogisticRegression(multi_class=\"multinomial\", max_iter=10000)\n",
    "    logistic_model.fit(train_data, train_labels)\n",
    "\n",
    "    logistic_model_accuracies.append(logistic_model.score(validation_data, validation_labels))\n",
    "\n",
    "print(\"Softmax Regression Accuracy: {}\".format(softmax_accuracy))\n",
    "print(\"Ridge Regression (SKLearn) Accuracy: {}\".format(np.average(ridge_model_accuracies)))\n",
    "print(\"Logistic Regression (SKLearn) Accuracy: {}\".format(np.average(logistic_model_accuracies)))"
   ]
  },
  {
   "cell_type": "markdown",
   "metadata": {},
   "source": [
    "### Wine Dataset Comparison\n",
    "\n",
    "We can do the same comparison on the wine dataset. This is done below."
   ]
  },
  {
   "cell_type": "code",
   "execution_count": 110,
   "metadata": {},
   "outputs": [
    {
     "name": "stdout",
     "output_type": "stream",
     "text": [
      "Softmax Regression Accuracy: 0.9188235294117648\n",
      "Ridge Regression (SKLearn) Accuracy: 0.9478991596638655\n",
      "Logistic Regression (SKLearn) Accuracy: 0.9359663865546219\n"
     ]
    }
   ],
   "source": [
    "from sklearn.datasets import load_wine\n",
    "from sklearn.linear_model import RidgeClassifier\n",
    "from sklearn.linear_model import LogisticRegression\n",
    "\n",
    "wine = load_wine()\n",
    "x, y = wine.data, wine.target\n",
    "\n",
    "C = 3\n",
    "# using the hyper-parameters obtained from grid search\n",
    "softmax_accuracy = calculate_model_accuracy(x, y, C, 0.0001, 0.892, 178)\n",
    "\n",
    "# Ridge Regression\n",
    "ridge_model_accuracies = []\n",
    "for fold_num in range(5):\n",
    "    train_data, validation_data = k_fold_splitter(fold_num, x)\n",
    "    train_labels, validation_labels = k_fold_splitter(fold_num, y)\n",
    "\n",
    "    ridge_model = RidgeClassifier(max_iter=10000)\n",
    "    ridge_model.fit(train_data, train_labels)\n",
    "\n",
    "    ridge_model_accuracies.append(ridge_model.score(validation_data, validation_labels))\n",
    "    \n",
    "# Logistic Regression\n",
    "logistic_model_accuracies = []\n",
    "for fold_num in range(5):\n",
    "    train_data, validation_data = k_fold_splitter(fold_num, x)\n",
    "    train_labels, validation_labels = k_fold_splitter(fold_num, y)\n",
    "\n",
    "    logistic_model = LogisticRegression(multi_class=\"multinomial\", max_iter=10000)\n",
    "    logistic_model.fit(train_data, train_labels)\n",
    "\n",
    "    logistic_model_accuracies.append(logistic_model.score(validation_data, validation_labels))\n",
    "\n",
    "print(\"Softmax Regression Accuracy: {}\".format(softmax_accuracy))\n",
    "print(\"Ridge Regression (SKLearn) Accuracy: {}\".format(np.average(ridge_model_accuracies)))\n",
    "print(\"Logistic Regression (SKLearn) Accuracy: {}\".format(np.average(logistic_model_accuracies)))"
   ]
  },
  {
   "cell_type": "code",
   "execution_count": null,
   "metadata": {},
   "outputs": [],
   "source": []
  }
 ],
 "metadata": {
  "kernelspec": {
   "display_name": "env",
   "language": "python",
   "name": "env"
  },
  "language_info": {
   "codemirror_mode": {
    "name": "ipython",
    "version": 3
   },
   "file_extension": ".py",
   "mimetype": "text/x-python",
   "name": "python",
   "nbconvert_exporter": "python",
   "pygments_lexer": "ipython3",
   "version": "3.7.5"
  }
 },
 "nbformat": 4,
 "nbformat_minor": 4
}
