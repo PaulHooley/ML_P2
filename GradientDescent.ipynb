{
 "cells": [
  {
   "cell_type": "code",
   "execution_count": 1,
   "metadata": {},
   "outputs": [],
   "source": [
    "import numpy as np\n",
    "\n",
    "\n",
    "class MomentumGradientDescent:\n",
    "    def __init__(\n",
    "        self,\n",
    "        learning_rate=0.001,\n",
    "        momentum=0.9,\n",
    "        max_iters=1e4,\n",
    "        epsilon=1e-8,\n",
    "        batch_size=32,\n",
    "        record_history=False,\n",
    "    ):\n",
    "        self.learning_rate = learning_rate\n",
    "        self.momentum = momentum\n",
    "        self.max_iters = max_iters\n",
    "        self.record_history = record_history\n",
    "        self.epsilon = epsilon\n",
    "        self.batch_size = batch_size\n",
    "        self.prev_delta_w = None\n",
    "        if record_history:\n",
    "            # to store the weight history for visualization\n",
    "            self.w_history = []\n",
    "\n",
    "    def run(self, gradient_fn, x, y, w):\n",
    "        grad = np.inf\n",
    "        t = 1\n",
    "        N, D = x.shape\n",
    "        self.prev_delta_w = np.zeros(D)\n",
    "        while np.linalg.norm(grad) > self.epsilon and t < self.max_iters:\n",
    "            for i in range(0, N, self.batch_size):\n",
    "                if x.ndim == 1:\n",
    "                    batch_x = x[i : i + self.batch_size]\n",
    "                else:\n",
    "                    batch_x = x[i : i + self.batch_size, :]\n",
    "\n",
    "                if y.ndim == 1:\n",
    "                    batch_y = y[i : i + self.batch_size]\n",
    "                else:\n",
    "                    batch_y = y[i : i + self.batch_size, :]\n",
    "\n",
    "                # compute the gradient with present weight\n",
    "                grad = gradient_fn(batch_x, batch_y, w)\n",
    "                delta_w = self.get_delta_w(grad)\n",
    "\n",
    "                # weight update step\n",
    "                w = w - self.learning_rate * delta_w\n",
    "                if self.record_history:\n",
    "                    self.w_history.append(w)\n",
    "            t += 1\n",
    "        return w\n",
    "\n",
    "    def get_delta_w(self, grad):\n",
    "        beta = self.momentum\n",
    "        delta_w = beta * self.prev_delta_w + (1 - beta) * grad\n",
    "        self.prev_delta_w = delta_w\n",
    "\n",
    "        return delta_w"
   ]
  },
  {
   "cell_type": "code",
   "execution_count": 2,
   "metadata": {},
   "outputs": [],
   "source": [
    "# used to test the MomentumGradientDescent class\n",
    "class LinearRegression:\n",
    "    def __init__(self, add_bias=True):\n",
    "        self.add_bias = add_bias\n",
    "        pass\n",
    "            \n",
    "    def fit(self, x, y, optimizer):\n",
    "        if x.ndim == 1:\n",
    "            x = x[:, None]\n",
    "        if self.add_bias:\n",
    "            N = x.shape[0]\n",
    "            x = np.column_stack([x,np.ones(N)])\n",
    "        N,D = x.shape\n",
    "        def gradient(x, y, w):\n",
    "            yh = x @ w\n",
    "            N, D = x.shape\n",
    "            grad = .5*np.dot(yh - y, x)/N\n",
    "            return grad\n",
    "        w0 = np.zeros(D)                                # initialize the weights to 0\n",
    "        self.w = optimizer.run(gradient, x, y, w0)      # run the optimizer to get the optimal weights\n",
    "        return self\n",
    "    \n",
    "    def predict(self, x):\n",
    "        if self.add_bias:\n",
    "            x = np.column_stack([x,np.ones(N)])\n",
    "        yh = x@self.w\n",
    "        return yh"
   ]
  },
  {
   "cell_type": "code",
   "execution_count": 3,
   "metadata": {},
   "outputs": [
    {
     "data": {
      "image/png": "[encoded data removed]",
      "text/plain": [
       "<Figure size 432x288 with 1 Axes>"
      ]
     },
     "metadata": {
      "needs_background": "light"
     },
     "output_type": "display_data"
    },
    {
     "data": {
      "image/png": "[encoded data removed]",
      "text/plain": [
       "<Figure size 432x288 with 1 Axes>"
      ]
     },
     "metadata": {
      "needs_background": "light"
     },
     "output_type": "display_data"
    }
   ],
   "source": [
    "#%matplotlib notebook\n",
    "%matplotlib inline\n",
    "import matplotlib.pyplot as plt\n",
    "\n",
    "N = 100\n",
    "x = np.random.rand(N) * 10\n",
    "y = -4*x + 10 + 2*np.random.randn(N)\n",
    "optimizer = MomentumGradientDescent(learning_rate=.005, max_iters=1000, record_history=True)\n",
    "model = LinearRegression()\n",
    "model.fit(x,y, optimizer)\n",
    "plt.plot(x, y, '.')\n",
    "for t,w in enumerate(optimizer.w_history):\n",
    "    plt.plot(x, x*w[0]+w[1], 'r-', alpha=t/len(optimizer.w_history), label=str(t))\n",
    "plt.xlabel('x')\n",
    "plt.ylabel(r'$y=xw_1 + w_0$')\n",
    "#plt.xlim(-20,20)\n",
    "#plt.ylim(-100,100)\n",
    "plt.show()\n",
    "\n",
    "# plot the final fit\n",
    "plt.plot(x, y, '.')\n",
    "plt.plot(x, x*model.w[0]+model.w[1], 'r-', label=str(model.w[0]))\n",
    "plt.xlabel('x')\n",
    "plt.ylabel(r'$y=xw_1 + w_0$')\n",
    "plt.show()"
   ]
  },
  {
   "cell_type": "code",
   "execution_count": null,
   "metadata": {},
   "outputs": [],
   "source": []
  }
 ],
 "metadata": {
  "kernelspec": {
   "display_name": "env",
   "language": "python",
   "name": "env"
  },
  "language_info": {
   "codemirror_mode": {
    "name": "ipython",
    "version": 3
   },
   "file_extension": ".py",
   "mimetype": "text/x-python",
   "name": "python",
   "nbconvert_exporter": "python",
   "pygments_lexer": "ipython3",
   "version": "3.7.5"
  }
 },
 "nbformat": 4,
 "nbformat_minor": 4
}
